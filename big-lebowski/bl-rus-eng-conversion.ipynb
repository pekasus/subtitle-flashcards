{
 "cells": [
  {
   "cell_type": "code",
   "execution_count": null,
   "id": "bedd00fe",
   "metadata": {
    "pycharm": {
     "name": "#%%\n"
    }
   },
   "outputs": [],
   "source": []
  },
  {
   "cell_type": "code",
   "execution_count": 1,
   "id": "a32b73f4",
   "metadata": {
    "pycharm": {
     "name": "#%%\n"
    }
   },
   "outputs": [],
   "source": [
    "eng = \"\"\"1\n",
    "00:00:03,500 --> 00:00:05,378\n",
    "Another Caucasian, Gary.\n",
    "\n",
    "2\n",
    "00:00:05,420 --> 00:00:06,795\n",
    "Right, Dude.\n",
    "\n",
    "3\n",
    "00:00:08,297 --> 00:00:10,175\n",
    "Friends like these,\n",
    "huh, Gary?\n",
    "\n",
    "4\n",
    "00:00:10,215 --> 00:00:12,092\n",
    "That's right, Dude.\n",
    "\n",
    "5\n",
    "00:00:34,199 --> 00:00:36,576\n",
    "Do you have\n",
    "A good sarsaparilla?\n",
    "\n",
    "\"\"\""
   ]
  },
  {
   "cell_type": "code",
   "execution_count": 47,
   "outputs": [],
   "source": [
    "rus = \"\"\"1\n",
    "00:00:31,511 --> 00:00:35,140\n",
    "Кинокомпания Полиграм Филмд\n",
    "Энтертейнмент представляет.\n",
    "\n",
    "2\n",
    "00:00:36,582 --> 00:00:39,483\n",
    "Производство Уоркинг Тайтл.\n",
    "\n",
    "3\n",
    "00:00:40,019 --> 00:00:42,487\n",
    "Далеко на западе жил-был друг\n",
    "\n",
    "4\n",
    "00:00:42,522 --> 00:00:44,990\n",
    "друг, о котором я хочу вам рассказать\n",
    "\n",
    "5\n",
    "00:00:45,024 --> 00:00:48,482\n",
    "друг по имени Джефф Лебовски\n",
    "\n",
    "\"\"\""
   ],
   "metadata": {
    "collapsed": false,
    "pycharm": {
     "name": "#%%\n"
    }
   }
  },
  {
   "cell_type": "code",
   "execution_count": 37,
   "outputs": [],
   "source": [
    "def timestamp_to_secs(timestamp):\n",
    "    timesplit = timestamp.split(\":\")\n",
    "    secs = timesplit[2].replace(\",\", \".\")\n",
    "    secs = float(secs)\n",
    "    totalsecs = secs + int(timesplit[0]) * 3600 + int(timesplit[1]) * 60\n",
    "    return totalsecs"
   ],
   "metadata": {
    "collapsed": false,
    "pycharm": {
     "name": "#%%\n"
    }
   }
  },
  {
   "cell_type": "code",
   "execution_count": 44,
   "outputs": [],
   "source": [
    "def process(text):\n",
    "    output = []\n",
    "    sections = text.split(\"\\n\\n\")\n",
    "    sections.pop()\n",
    "    for section in sections:\n",
    "        l = section.splitlines()\n",
    "        # for l in rawlist:\n",
    "        temp = [int(l[0])]\n",
    "        stamps = l[1].split(' --> ')\n",
    "        temp.append(timestamp_to_secs(stamps[0]))\n",
    "        temp.append(timestamp_to_secs(stamps[1]))\n",
    "        if len(l) == 3:\n",
    "            temp.append(l[2])\n",
    "        else:\n",
    "            lines = l[2:]\n",
    "            combined = \" \".join(lines)\n",
    "            temp.append(combined)\n",
    "        output.append(temp)\n",
    "    return output\n"
   ],
   "metadata": {
    "collapsed": false,
    "pycharm": {
     "name": "#%%\n"
    }
   }
  },
  {
   "cell_type": "code",
   "execution_count": 45,
   "outputs": [
    {
     "name": "stdout",
     "output_type": "stream",
     "text": [
      "[[1, 3.5, 5.378, 'Another Caucasian, Gary.'], [2, 5.42, 6.795, 'Right, Dude.'], [3, 8.297, 10.175, 'Friends like these, huh, Gary?'], [4, 10.215, 12.092, \"That's right, Dude.\"], [5, 34.199, 36.576, 'Do you have A good sarsaparilla?']]\n"
     ]
    }
   ],
   "source": [
    "print(process_list(eng))"
   ],
   "metadata": {
    "collapsed": false,
    "pycharm": {
     "name": "#%%\n"
    }
   }
  },
  {
   "cell_type": "code",
   "execution_count": 48,
   "outputs": [
    {
     "name": "stdout",
     "output_type": "stream",
     "text": [
      "[[1, 31.511, 35.14, 'Кинокомпания Полиграм Филмд Энтертейнмент представляет.'], [2, 36.582, 39.483, 'Производство Уоркинг Тайтл.'], [3, 40.019, 42.487, 'Далеко на западе жил-был друг'], [4, 42.522, 44.99, 'друг, о котором я хочу вам рассказать'], [5, 45.024, 48.482, 'друг по имени Джефф Лебовски']]\n"
     ]
    }
   ],
   "source": [
    "print(process_list(rus))"
   ],
   "metadata": {
    "collapsed": false,
    "pycharm": {
     "name": "#%%\n"
    }
   }
  },
  {
   "cell_type": "code",
   "execution_count": null,
   "outputs": [],
   "source": [],
   "metadata": {
    "collapsed": false,
    "pycharm": {
     "name": "#%%\n"
    }
   }
  }
 ],
 "metadata": {
  "kernelspec": {
   "display_name": "Python 3 (ipykernel)",
   "language": "python",
   "name": "python3"
  },
  "language_info": {
   "codemirror_mode": {
    "name": "ipython",
    "version": 3
   },
   "file_extension": ".py",
   "mimetype": "text/x-python",
   "name": "python",
   "nbconvert_exporter": "python",
   "pygments_lexer": "ipython3",
   "version": "3.8.10"
  }
 },
 "nbformat": 4,
 "nbformat_minor": 5
}