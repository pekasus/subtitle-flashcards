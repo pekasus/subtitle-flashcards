{
 "cells": [
  {
   "cell_type": "code",
   "execution_count": null,
   "id": "bedd00fe",
   "metadata": {},
   "outputs": [],
   "source": []
  },
  {
   "cell_type": "code",
   "execution_count": 1,
   "id": "a32b73f4",
   "metadata": {},
   "outputs": [],
   "source": [
    "eng = \"\"\"1\n",
    "00:00:03,500 --> 00:00:05,378\n",
    "Another Caucasian, Gary.\n",
    "\n",
    "2\n",
    "00:00:05,420 --> 00:00:06,795\n",
    "Right, Dude.\n",
    "\n",
    "3\n",
    "00:00:08,297 --> 00:00:10,175\n",
    "Friends like these,\n",
    "huh, Gary?\n",
    "\n",
    "4\n",
    "00:00:10,215 --> 00:00:12,092\n",
    "That's right, Dude.\n",
    "\n",
    "5\n",
    "00:00:34,199 --> 00:00:36,576\n",
    "Do you have\n",
    "A good sarsaparilla?\n",
    "\n",
    "\"\"\""
   ]
  },
  {
   "cell_type": "code",
   "execution_count": 13,
   "id": "d1d0d1bb",
   "metadata": {},
   "outputs": [],
   "source": [
    "def process(text):\n",
    "    for l in text.split(\"\\n\\n\"):\n",
    "#         print(l)\n",
    "        print(l.splitlines())\n",
    "#         print(10*\"*\")"
   ]
  },
  {
   "cell_type": "code",
   "execution_count": 10,
   "id": "5bee5184",
   "metadata": {},
   "outputs": [
    {
     "name": "stdout",
     "output_type": "stream",
     "text": [
      "1\n",
      "00:00:03,500 --> 00:00:05,378\n",
      "Another Caucasian, Gary.\n",
      "['1', '00:00:03,500 --> 00:00:05,378', 'Another Caucasian, Gary.']\n",
      "**********\n",
      "2\n",
      "00:00:05,420 --> 00:00:06,795\n",
      "Right, Dude.\n",
      "['2', '00:00:05,420 --> 00:00:06,795', 'Right, Dude.']\n",
      "**********\n",
      "3\n",
      "00:00:08,297 --> 00:00:10,175\n",
      "Friends like these,\n",
      "huh, Gary?\n",
      "['3', '00:00:08,297 --> 00:00:10,175', 'Friends like these,', 'huh, Gary?']\n",
      "**********\n",
      "4\n",
      "00:00:10,215 --> 00:00:12,092\n",
      "That's right, Dude.\n",
      "['4', '00:00:10,215 --> 00:00:12,092', \"That's right, Dude.\"]\n",
      "**********\n",
      "5\n",
      "00:00:34,199 --> 00:00:36,576\n",
      "Do you have\n",
      "A good sarsaparilla?\n",
      "['5', '00:00:34,199 --> 00:00:36,576', 'Do you have', 'A good sarsaparilla?']\n",
      "**********\n",
      "\n",
      "[]\n",
      "**********\n"
     ]
    }
   ],
   "source": [
    "process(eng)"
   ]
  },
  {
   "cell_type": "code",
   "execution_count": 11,
   "id": "b44adaf3",
   "metadata": {},
   "outputs": [],
   "source": [
    "rus = \"\"\"1\n",
    "00:00:31,511 --> 00:00:35,140\n",
    "Кинокомпания Полиграм Филмд\n",
    "Энтертейнмент представляет.\n",
    "\n",
    "2\n",
    "00:00:36,582 --> 00:00:39,483\n",
    "Производство Уоркинг Тайтл.\n",
    "\n",
    "3\n",
    "00:00:40,019 --> 00:00:42,487\n",
    "Далеко на западе жил-был друг\n",
    "\n",
    "4\n",
    "00:00:42,522 --> 00:00:44,990\n",
    "друг, о котором я хочу вам рассказать\n",
    "\n",
    "5\n",
    "00:00:45,024 --> 00:00:48,482\n",
    "друг по имени Джефф Лебовски\n",
    "\n",
    "\"\"\""
   ]
  },
  {
   "cell_type": "code",
   "execution_count": 16,
   "id": "5e084228",
   "metadata": {},
   "outputs": [
    {
     "name": "stdout",
     "output_type": "stream",
     "text": [
      "['1', '00:00:31,511 --> 00:00:35,140', 'Кинокомпания Полиграм Филмд', 'Энтертейнмент представляет.']\n",
      "['2', '00:00:36,582 --> 00:00:39,483', 'Производство Уоркинг Тайтл.']\n",
      "['3', '00:00:40,019 --> 00:00:42,487', 'Далеко на западе жил-был друг']\n",
      "['4', '00:00:42,522 --> 00:00:44,990', 'друг, о котором я хочу вам рассказать']\n",
      "['5', '00:00:45,024 --> 00:00:48,482', 'друг по имени Джефф Лебовски']\n",
      "[]\n",
      "['1', '00:00:03,500 --> 00:00:05,378', 'Another Caucasian, Gary.']\n",
      "['2', '00:00:05,420 --> 00:00:06,795', 'Right, Dude.']\n",
      "['3', '00:00:08,297 --> 00:00:10,175', 'Friends like these,', 'huh, Gary?']\n",
      "['4', '00:00:10,215 --> 00:00:12,092', \"That's right, Dude.\"]\n",
      "['5', '00:00:34,199 --> 00:00:36,576', 'Do you have', 'A good sarsaparilla?']\n",
      "[]\n"
     ]
    }
   ],
   "source": [
    "process(rus)\n",
    "process(eng)"
   ]
  },
  {
   "cell_type": "code",
   "execution_count": 15,
   "id": "95caad15",
   "metadata": {},
   "outputs": [
    {
     "name": "stdout",
     "output_type": "stream",
     "text": [
      "['1', '00:00:03,500 --> 00:00:05,378', 'Another Caucasian, Gary.']\n",
      "['2', '00:00:05,420 --> 00:00:06,795', 'Right, Dude.']\n",
      "['3', '00:00:08,297 --> 00:00:10,175', 'Friends like these,', 'huh, Gary?']\n",
      "['4', '00:00:10,215 --> 00:00:12,092', \"That's right, Dude.\"]\n",
      "['5', '00:00:34,199 --> 00:00:36,576', 'Do you have', 'A good sarsaparilla?']\n",
      "[]\n"
     ]
    }
   ],
   "source": [
    "process(eng)"
   ]
  },
  {
   "cell_type": "code",
   "execution_count": null,
   "id": "2e009159",
   "metadata": {},
   "outputs": [],
   "source": []
  }
 ],
 "metadata": {
  "kernelspec": {
   "display_name": "Python 3 (ipykernel)",
   "language": "python",
   "name": "python3"
  },
  "language_info": {
   "codemirror_mode": {
    "name": "ipython",
    "version": 3
   },
   "file_extension": ".py",
   "mimetype": "text/x-python",
   "name": "python",
   "nbconvert_exporter": "python",
   "pygments_lexer": "ipython3",
   "version": "3.8.10"
  }
 },
 "nbformat": 4,
 "nbformat_minor": 5
}
