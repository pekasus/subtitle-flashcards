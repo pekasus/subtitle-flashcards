{
 "cells": [
  {
   "cell_type": "code",
   "execution_count": null,
   "id": "bedd00fe",
   "metadata": {
    "pycharm": {
     "name": "#%%\n"
    }
   },
   "outputs": [],
   "source": []
  },
  {
   "cell_type": "code",
   "execution_count": 74,
   "outputs": [],
   "source": [
    "eng = \"\"\"1\n",
    "00:00:24,952 --> 00:00:27,654\n",
    "Way out West\n",
    "there was this fella.\n",
    "\n",
    "2\n",
    "00:00:27,655 --> 00:00:30,090\n",
    "Fella I wanna tell you about.\n",
    "\n",
    "3\n",
    "00:00:30,091 --> 00:00:33,626\n",
    "Fella by the name\n",
    "of Jeff Lebowski.\n",
    "\n",
    "4\n",
    "00:00:33,627 --> 00:00:37,330\n",
    "At least that was the handle\n",
    "that his loving parents\n",
    "gave him.\n",
    "\n",
    "5\n",
    "00:00:37,331 --> 00:00:40,467\n",
    "But he never had\n",
    "much use for it himself.\n",
    "\n",
    "6\n",
    "00:00:40,468 --> 00:00:44,605\n",
    "This Lebowski,\n",
    "he called himself the Dude.\n",
    "\n",
    "7\n",
    "00:00:44,606 --> 00:00:46,741\n",
    "Now Dude,\n",
    "\n",
    "8\n",
    "00:00:46,742 --> 00:00:50,511\n",
    "that's a name no one would\n",
    "self-apply where I come from.\n",
    "\n",
    "9\n",
    "00:00:50,512 --> 00:00:55,983\n",
    "But then there was a lot about\n",
    "the Dude that didn't make\n",
    "a whole lot of sense to me,\n",
    "\n",
    "10\n",
    "00:00:55,984 --> 00:00:58,719\n",
    "and a lot about\n",
    "where he lived likewise.\n",
    "\n",
    "11\n",
    "00:01:00,989 --> 00:01:02,657\n",
    "But then again,\n",
    "\n",
    "12\n",
    "00:01:02,658 --> 00:01:05,826\n",
    "maybe that's why\n",
    "I found the place\n",
    "so darned interesting.\n",
    "\n",
    "13\n",
    "00:01:10,832 --> 00:01:14,935\n",
    "They call Los Angeles\n",
    "the City of Angels.\"\"\""
   ],
   "metadata": {
    "collapsed": false,
    "pycharm": {
     "name": "#%%\n"
    }
   }
  },
  {
   "cell_type": "code",
   "execution_count": 75,
   "outputs": [],
   "source": [
    "rus = \"\"\"1\n",
    "00:00:31,511 --> 00:00:35,140\n",
    "Кинокомпания Полиграм Филмд\n",
    "Энтертейнмент представляет.\n",
    "\n",
    "2\n",
    "00:00:36,582 --> 00:00:39,483\n",
    "Производство Уоркинг Тайтл.\n",
    "\n",
    "3\n",
    "00:00:40,019 --> 00:00:42,487\n",
    "Далеко на западе жил-был друг\n",
    "\n",
    "4\n",
    "00:00:42,522 --> 00:00:44,990\n",
    "друг, о котором я хочу вам рассказать\n",
    "\n",
    "5\n",
    "00:00:45,024 --> 00:00:48,482\n",
    "друг по имени Джефф Лебовски\n",
    "\n",
    "6\n",
    "00:00:48,528 --> 00:00:50,496\n",
    "по крайней мере этим именем его нарекли\n",
    "\n",
    "7\n",
    "00:00:50,530 --> 00:00:52,498\n",
    "Его любящие родители.\n",
    "\n",
    "8\n",
    "00:00:52,532 --> 00:00:55,524\n",
    "Но сам он себя так никогда не называл.\n",
    "\n",
    "9\n",
    "00:00:55,601 --> 00:00:59,503\n",
    "Этот Лебовски называл себя \"Чувак\"\n",
    "\n",
    "10\n",
    "00:00:59,539 --> 00:01:03,498\n",
    "Откуда я родом, чуваком\n",
    "\n",
    "11\n",
    "00:01:03,543 --> 00:01:05,511\n",
    "себя никто не назвал бы.\n",
    "\n",
    "12\n",
    "00:01:05,545 --> 00:01:08,013\n",
    "И потом, многое в Чуваке\n",
    "\n",
    "13\n",
    "00:01:08,047 --> 00:01:11,016\n",
    "было для меня бессмысленным\n",
    "\n",
    "14\n",
    "00:01:11,050 --> 00:01:14,019\n",
    "Где он жил, например\n",
    "\n",
    "15\n",
    "00:01:16,055 --> 00:01:17,522\n",
    "Но всё же\n",
    "\n",
    "16\n",
    "00:01:17,557 --> 00:01:21,516\n",
    "может быть поэтому я нахожу\n",
    "это место таким чертовски интересным\n",
    "\n",
    "17\n",
    "00:01:25,565 --> 00:01:30,025\n",
    "Лос Анжелес кличут городом ангелов\"\"\""
   ],
   "metadata": {
    "collapsed": false,
    "pycharm": {
     "name": "#%%\n"
    }
   }
  },
  {
   "cell_type": "code",
   "execution_count": null,
   "outputs": [],
   "source": [
    "def timestamp_to_secs(timestamp):\n",
    "    timesplit = timestamp.split(\":\")\n",
    "    secs = timesplit[2].replace(\",\", \".\")\n",
    "    secs = float(secs)\n",
    "    totalsecs = secs + int(timesplit[0]) * 3600 + int(timesplit[1]) * 60\n",
    "    return totalsecs"
   ],
   "metadata": {
    "collapsed": false,
    "pycharm": {
     "name": "#%%\n"
    }
   }
  },
  {
   "cell_type": "code",
   "execution_count": 76,
   "outputs": [],
   "source": [
    "def process(text):\n",
    "    output = []\n",
    "    sections = text.split(\"\\n\\n\")\n",
    "    # sections.pop()\n",
    "    for section in sections:\n",
    "        l = section.splitlines()\n",
    "        temp = [int(l[0])]\n",
    "        stamps = l[1].split(' --> ')\n",
    "        temp.append(timestamp_to_secs(stamps[0]))\n",
    "        temp.append(timestamp_to_secs(stamps[1]))\n",
    "        if len(l) == 3:\n",
    "            temp.append(l[2])\n",
    "        else:\n",
    "            lines = l[2:]\n",
    "            combined = \" \".join(lines)\n",
    "            temp.append(combined)\n",
    "        output.append(temp)\n",
    "    return output\n"
   ],
   "metadata": {
    "collapsed": false,
    "pycharm": {
     "name": "#%%\n"
    }
   }
  },
  {
   "cell_type": "code",
   "execution_count": 77,
   "outputs": [
    {
     "name": "stdout",
     "output_type": "stream",
     "text": [
      "[[1, 24.952, 27.654, 'Way out West there was this fella.'], [2, 27.655, 30.09, 'Fella I wanna tell you about.'], [3, 30.091, 33.626, 'Fella by the name of Jeff Lebowski.'], [4, 33.627, 37.33, 'At least that was the handle that his loving parents gave him.'], [5, 37.331, 40.467, 'But he never had much use for it himself.'], [6, 40.468, 44.605, 'This Lebowski, he called himself the Dude.'], [7, 44.606, 46.741, 'Now Dude,'], [8, 46.742, 50.511, \"that's a name no one would self-apply where I come from.\"], [9, 50.512, 55.983, \"But then there was a lot about the Dude that didn't make a whole lot of sense to me,\"], [10, 55.984, 58.719, 'and a lot about where he lived likewise.'], [11, 60.989, 62.657, 'But then again,'], [12, 62.658, 65.826, \"maybe that's why I found the place so darned interesting.\"]]\n"
     ]
    }
   ],
   "source": [
    "print(process_list(eng))"
   ],
   "metadata": {
    "collapsed": false,
    "pycharm": {
     "name": "#%%\n"
    }
   }
  },
  {
   "cell_type": "code",
   "execution_count": 78,
   "outputs": [
    {
     "name": "stdout",
     "output_type": "stream",
     "text": [
      "[[1, 31.511, 35.14, 'Кинокомпания Полиграм Филмд Энтертейнмент представляет.'], [2, 36.582, 39.483, 'Производство Уоркинг Тайтл.'], [3, 40.019, 42.487, 'Далеко на западе жил-был друг'], [4, 42.522, 44.99, 'друг, о котором я хочу вам рассказать'], [5, 45.024, 48.482, 'друг по имени Джефф Лебовски'], [6, 48.528, 50.496, 'по крайней мере этим именем его нарекли'], [7, 50.53, 52.498, 'Его любящие родители.'], [8, 52.532, 55.524, 'Но сам он себя так никогда не называл.'], [9, 55.601, 59.503, 'Этот Лебовски называл себя \"Чувак\"'], [10, 59.539, 63.498, 'Откуда я родом, чуваком'], [11, 63.543, 65.511, 'себя никто не назвал бы.'], [12, 65.545, 68.013, 'И потом, многое в Чуваке'], [13, 68.047, 71.016, 'было для меня бессмысленным'], [14, 71.05, 74.019, 'Где он жил, например'], [15, 76.055, 77.52199999999999, 'Но всё же'], [16, 77.557, 81.51599999999999, 'может быть поэтому я нахожу это место таким чертовски интересным']]\n"
     ]
    }
   ],
   "source": [
    "print(process_list(rus))"
   ],
   "metadata": {
    "collapsed": false,
    "pycharm": {
     "name": "#%%\n"
    }
   }
  },
  {
   "cell_type": "code",
   "execution_count": null,
   "outputs": [],
   "source": [],
   "metadata": {
    "collapsed": false,
    "pycharm": {
     "name": "#%%\n"
    }
   }
  }
 ],
 "metadata": {
  "kernelspec": {
   "display_name": "Python 3 (ipykernel)",
   "language": "python",
   "name": "python3"
  },
  "language_info": {
   "codemirror_mode": {
    "name": "ipython",
    "version": 3
   },
   "file_extension": ".py",
   "mimetype": "text/x-python",
   "name": "python",
   "nbconvert_exporter": "python",
   "pygments_lexer": "ipython3",
   "version": "3.8.10"
  }
 },
 "nbformat": 4,
 "nbformat_minor": 5
}