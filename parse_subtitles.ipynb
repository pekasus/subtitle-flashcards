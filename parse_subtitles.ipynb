{
 "cells": [
  {
   "cell_type": "code",
   "execution_count": null,
   "id": "ffbfac54",
   "metadata": {},
   "outputs": [],
   "source": []
  },
  {
   "cell_type": "code",
   "execution_count": 1,
   "id": "b846eac8",
   "metadata": {},
   "outputs": [],
   "source": [
    "engsubfile = 'the-big-lebowski-subtitles-eng.srt'\n",
    "russubfile = 'the-big-lebowski-subtitles-rus.srt'"
   ]
  },
  {
   "cell_type": "code",
   "execution_count": 2,
   "id": "8a4e40f2",
   "metadata": {},
   "outputs": [],
   "source": [
    "sample1 = \"\"\"1\n",
    "00:00:24,952 --> 00:00:27,654\n",
    "Way out West\n",
    "there was this fella.\n",
    "\n",
    "2\n",
    "00:00:27,655 --> 00:00:30,090\n",
    "Fella I wanna tell you about.\n",
    "\n",
    "3\n",
    "00:00:30,091 --> 00:00:33,626\n",
    "Fella by the name\n",
    "of Jeff Lebowski.\n",
    "\n",
    "4\n",
    "00:00:33,627 --> 00:00:37,330\n",
    "At least that was the handle\n",
    "that his loving parents\n",
    "gave him.\n",
    "\"\"\""
   ]
  },
  {
   "cell_type": "code",
   "execution_count": 41,
   "id": "f2006cbe",
   "metadata": {},
   "outputs": [],
   "source": [
    "def parse_sample(text):\n",
    "    text = text.split(\"\\n\\n\")\n",
    "    l1 = [l.split('\\n', 2) for l in text]\n",
    "    for l in l1:\n",
    "        l[0] = int(l[0])\n",
    "        l[1] = l[1].replace(',','.')\n",
    "        l[1] = l[1].split(' --> ')\n",
    "        l[1] = [i.split(':') for i in l[1]]\n",
    "        l[1] = [float(i[0]) * 3600 + float(i[1]) * 60 + float(i[2]) for i in l[1]]\n",
    "        l[2] = l[2].replace('\\n', ' ')\n",
    "    return l1"
   ]
  },
  {
   "cell_type": "code",
   "execution_count": 42,
   "id": "f357d543",
   "metadata": {},
   "outputs": [
    {
     "name": "stdout",
     "output_type": "stream",
     "text": [
      "[[1, [24.952, 27.654], 'Way out West there was this fella.'], [2, [27.655, 30.09], 'Fella I wanna tell you about.'], [3, [30.091, 33.626], 'Fella by the name of Jeff Lebowski.'], [4, [33.627, 37.33], 'At least that was the handle that his loving parents gave him. ']]\n"
     ]
    }
   ],
   "source": [
    "print(parse_sample(sample1))"
   ]
  },
  {
   "cell_type": "code",
   "execution_count": 28,
   "id": "bce79f1d",
   "metadata": {},
   "outputs": [],
   "source": [
    "sample2 = \"\"\"1\n",
    "00:00:31,511 --> 00:00:35,140\n",
    "Кинокомпания Полиграм Филмд\n",
    "Энтертейнмент представляет.\n",
    "\n",
    "2\n",
    "00:00:36,582 --> 00:00:39,483\n",
    "Производство Уоркинг Тайтл.\n",
    "\n",
    "3\n",
    "00:00:40,019 --> 00:00:42,487\n",
    "Далеко на западе жил-был друг\n",
    "\n",
    "4\n",
    "00:00:42,522 --> 00:00:44,990\n",
    "друг, о котором я хочу вам рассказать\n",
    "\n",
    "5\n",
    "00:00:45,024 --> 00:00:48,482\n",
    "друг по имени Джефф Лебовски\n",
    "\"\"\""
   ]
  },
  {
   "cell_type": "code",
   "execution_count": 43,
   "id": "b46a4ec8",
   "metadata": {},
   "outputs": [],
   "source": [
    "eng_sample = parse_sample(sample1)\n",
    "rus_sample = parse_sample(sample2)"
   ]
  },
  {
   "cell_type": "code",
   "execution_count": 44,
   "id": "a51e9b77",
   "metadata": {},
   "outputs": [
    {
     "name": "stdout",
     "output_type": "stream",
     "text": [
      "1: Way out West there was this fella. | 1: Кинокомпания Полиграм Филмд Энтертейнмент представляет.\n",
      "2: Fella I wanna tell you about. | 2: Производство Уоркинг Тайтл.\n",
      "3: Fella by the name of Jeff Lebowski. | 3: Далеко на западе жил-был друг\n",
      "4: At least that was the handle that his loving parents gave him.  | 4: друг, о котором я хочу вам рассказать\n"
     ]
    }
   ],
   "source": [
    "for i in range(len(eng_sample)):\n",
    "    print(f\"{eng_sample[i][0]}: {eng_sample[i][2]} | {rus_sample[i][0]}: {rus_sample[i][2]}\")"
   ]
  },
  {
   "cell_type": "code",
   "execution_count": null,
   "id": "4ec99716",
   "metadata": {},
   "outputs": [],
   "source": []
  }
 ],
 "metadata": {
  "kernelspec": {
   "display_name": "Python 3 (ipykernel)",
   "language": "python",
   "name": "python3"
  },
  "language_info": {
   "codemirror_mode": {
    "name": "ipython",
    "version": 3
   },
   "file_extension": ".py",
   "mimetype": "text/x-python",
   "name": "python",
   "nbconvert_exporter": "python",
   "pygments_lexer": "ipython3",
   "version": "3.8.10"
  }
 },
 "nbformat": 4,
 "nbformat_minor": 5
}
